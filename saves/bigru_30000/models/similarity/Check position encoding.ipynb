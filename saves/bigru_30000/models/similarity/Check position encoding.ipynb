{
 "cells": [
  {
   "cell_type": "code",
   "execution_count": 11,
   "metadata": {
    "collapsed": true
   },
   "outputs": [],
   "source": [
    "import torch\n",
    "from torch.autograd import Variable\n",
    "from torch import nn\n",
    "import numpy as np"
   ]
  },
  {
   "cell_type": "code",
   "execution_count": 2,
   "metadata": {
    "collapsed": true
   },
   "outputs": [],
   "source": [
    "a1 = [1,2,3,4,5,0,0,0]\n",
    "a2 = [1,2,3,4,0,0,0,0]\n",
    "a3 = [1,2,3,4,5,6,7,9]\n",
    "arr = np.array([a1,a2,a3],dtype=float)\n",
    "pos = Variable(torch.Tensor(arr))\n",
    "lens=(pos>0).long().sum(1)\n",
    "var = Variable(torch.Tensor(3,8,128))"
   ]
  },
  {
   "cell_type": "code",
   "execution_count": null,
   "metadata": {},
   "outputs": [],
   "source": [
    "var * pos.unsqueeze(2)"
   ]
  },
  {
   "cell_type": "code",
   "execution_count": 16,
   "metadata": {},
   "outputs": [],
   "source": [
    "a = torch.randn(2,5,3)"
   ]
  },
  {
   "cell_type": "code",
   "execution_count": 22,
   "metadata": {},
   "outputs": [],
   "source": [
    "mask = (a>0).float()[:,:,0]"
   ]
  },
  {
   "cell_type": "code",
   "execution_count": 25,
   "metadata": {},
   "outputs": [
    {
     "data": {
      "text/plain": [
       "\n",
       "(0 ,.,.) = \n",
       " -0.0000 -0.0000  0.0000\n",
       "  2.2979  0.0644 -0.7405\n",
       "  0.2899 -0.1955  0.1069\n",
       "  1.2193  0.5231 -0.0251\n",
       "  1.1889  1.7795 -1.1259\n",
       "\n",
       "(1 ,.,.) = \n",
       "  0.9261  0.0780  0.6640\n",
       " -0.0000 -0.0000  0.0000\n",
       " -0.0000 -0.0000  0.0000\n",
       " -0.0000 -0.0000 -0.0000\n",
       "  1.5862  0.3272  0.0847\n",
       "[torch.FloatTensor of size 2x5x3]"
      ]
     },
     "execution_count": 25,
     "metadata": {},
     "output_type": "execute_result"
    }
   ],
   "source": [
    "a * mask.unsqueeze(2)"
   ]
  },
  {
   "cell_type": "code",
   "execution_count": 4,
   "metadata": {},
   "outputs": [],
   "source": [
    "d = 256\n",
    "J = 130\n",
    "l = np.zeros([d,J])"
   ]
  },
  {
   "cell_type": "code",
   "execution_count": 7,
   "metadata": {},
   "outputs": [],
   "source": [
    "for k in range(d):\n",
    "    for j in range(J):\n",
    "        l[k,j] = (1-j/J)-(k/d)*(1-2*j/J)"
   ]
  },
  {
   "cell_type": "code",
   "execution_count": 28,
   "metadata": {},
   "outputs": [],
   "source": [
    "arr = torch.randn(8,5)\n",
    "q = torch.randn(5,1)"
   ]
  },
  {
   "cell_type": "code",
   "execution_count": 32,
   "metadata": {},
   "outputs": [],
   "source": [
    "out = torch.mm(arr,q)"
   ]
  },
  {
   "cell_type": "code",
   "execution_count": 41,
   "metadata": {},
   "outputs": [
    {
     "data": {
      "text/plain": [
       "\n",
       " 0.0000  0.0000  0.1828  0.0000  0.0000\n",
       " 1.5783  0.0000  0.5934  0.0761  0.0000\n",
       " 0.0000  0.5459  0.7426  1.0260  0.2543\n",
       " 0.0000  0.0000  0.0000  0.0000  1.6139\n",
       " 0.1734  1.2431  1.5192  0.0000  0.0000\n",
       " 0.0000  0.7089  0.0000  0.0000  0.7243\n",
       " 0.0000  0.7357  0.1233  0.0000  0.9323\n",
       " 0.0000  0.8207  0.1859  0.0000  0.2278\n",
       "[torch.FloatTensor of size 8x5]"
      ]
     },
     "execution_count": 41,
     "metadata": {},
     "output_type": "execute_result"
    }
   ],
   "source": [
    "torch.max(arr,torch.zeros(arr.size()))"
   ]
  },
  {
   "cell_type": "code",
   "execution_count": 46,
   "metadata": {},
   "outputs": [
    {
     "data": {
      "text/plain": [
       "array([10, 10, 10, 11])"
      ]
     },
     "execution_count": 46,
     "metadata": {},
     "output_type": "execute_result"
    }
   ],
   "source": [
    "a = np.array([10,8,4,11])\n",
    "np.maximum(a,10)"
   ]
  },
  {
   "cell_type": "code",
   "execution_count": null,
   "metadata": {
    "collapsed": true
   },
   "outputs": [],
   "source": []
  }
 ],
 "metadata": {
  "kernelspec": {
   "display_name": "Python [conda env:pytorch]",
   "language": "python",
   "name": "conda-env-pytorch-py"
  },
  "language_info": {
   "codemirror_mode": {
    "name": "ipython",
    "version": 3
   },
   "file_extension": ".py",
   "mimetype": "text/x-python",
   "name": "python",
   "nbconvert_exporter": "python",
   "pygments_lexer": "ipython3",
   "version": "3.5.3"
  }
 },
 "nbformat": 4,
 "nbformat_minor": 2
}
